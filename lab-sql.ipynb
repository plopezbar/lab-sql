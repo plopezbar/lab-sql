{
 "cells": [
  {
   "cell_type": "code",
   "execution_count": 16,
   "metadata": {
    "ExecuteTime": {
     "end_time": "2020-01-18T13:15:34.115511Z",
     "start_time": "2020-01-18T13:15:34.105156Z"
    }
   },
   "outputs": [],
   "source": [
    "import os\n",
    "os.environ[\"GOOGLE_APPLICATION_CREDENTIALS\"]=\"/Users/plopezbar/Desktop/ironhack_service_account_big_query.json\"\n",
    "\n",
    "\n"
   ]
  },
  {
   "cell_type": "code",
   "execution_count": 17,
   "metadata": {
    "ExecuteTime": {
     "end_time": "2020-01-18T13:15:34.115511Z",
     "start_time": "2020-01-18T13:15:34.105156Z"
    }
   },
   "outputs": [],
   "source": [
    "from google.cloud import bigquery\n"
   ]
  },
  {
   "cell_type": "code",
   "execution_count": 18,
   "metadata": {
    "ExecuteTime": {
     "end_time": "2020-01-18T13:15:34.115511Z",
     "start_time": "2020-01-18T13:15:34.105156Z"
    }
   },
   "outputs": [
    {
     "data": {
      "text/plain": [
       "<module 'six' from '/Users/plopezbar/opt/anaconda3/lib/python3.7/site-packages/six.py'>"
      ]
     },
     "execution_count": 18,
     "metadata": {},
     "output_type": "execute_result"
    }
   ],
   "source": [
    "import six\n",
    "six.moves.reload_module(six)\n"
   ]
  },
  {
   "cell_type": "code",
   "execution_count": 19,
   "metadata": {
    "ExecuteTime": {
     "end_time": "2020-01-18T13:15:34.115511Z",
     "start_time": "2020-01-18T13:15:34.105156Z"
    }
   },
   "outputs": [],
   "source": [
    "# Instantiates a client for BigQuery Service\n",
    "client = bigquery.Client()\n"
   ]
  },
  {
   "cell_type": "code",
   "execution_count": 20,
   "metadata": {
    "ExecuteTime": {
     "end_time": "2020-01-18T13:15:34.115511Z",
     "start_time": "2020-01-18T13:15:34.105156Z"
    }
   },
   "outputs": [],
   "source": [
    "sql='''\n",
    "CREATE TABLE car_dealership.car(\n",
    "  vin STRING NOT NULL,\n",
    "  manufacturer STRING,\n",
    "  model STRING,\n",
    "  year NUMERIC,\n",
    "  color STRING)\n",
    "'''"
   ]
  },
  {
   "cell_type": "code",
   "execution_count": 21,
   "metadata": {
    "ExecuteTime": {
     "end_time": "2020-01-18T13:15:35.503146Z",
     "start_time": "2020-01-18T13:15:34.602674Z"
    }
   },
   "outputs": [],
   "source": [
    "query_job = client.query(query=sql)"
   ]
  },
  {
   "cell_type": "code",
   "execution_count": 22,
   "metadata": {
    "ExecuteTime": {
     "end_time": "2020-01-18T13:18:34.140916Z",
     "start_time": "2020-01-18T13:18:32.169172Z"
    }
   },
   "outputs": [],
   "source": [
    "sql_3 = '''INSERT INTO `ironhack-data-analytics-265219.car_dealership.car` \n",
    "VALUES (\"3K096I98581DHSNUP\",\"Volkswagen\",\"Tiguan\",2019, \"Blue\"),(\"ZM8G7BEUQZ97IH46V\",\"Peugeot\", \"Rifter\",2019,\"Red\"),(\"RKXVNNIHLVVZOUB4M\",\"Ford\", \"Fusion\",2018,\"White\"),(\"HKNDGS7CU31E9Z7JW\",\"Toyota\", \"RAV4\",2018,\"Silver\"),(\"DAM41UDN3CHU2WVF6\",\"Volvo\",\"V60\",2019,\"Gray\"),(\"DAM41UDN3CHU2WVF6\",\"Volvo\",\"V60 Cross Country\",2019,\"Gray\");\n",
    "'''"
   ]
  },
  {
   "cell_type": "code",
   "execution_count": 23,
   "metadata": {},
   "outputs": [],
   "source": [
    "query_job = client.query(query=sql_3)\n",
    "df=query_job.to_dataframe()\n"
   ]
  }
 ],
 "metadata": {
  "kernelspec": {
   "display_name": "Python 3",
   "language": "python",
   "name": "python3"
  },
  "language_info": {
   "codemirror_mode": {
    "name": "ipython",
    "version": 3
   },
   "file_extension": ".py",
   "mimetype": "text/x-python",
   "name": "python",
   "nbconvert_exporter": "python",
   "pygments_lexer": "ipython3",
   "version": "3.7.4"
  },
  "varInspector": {
   "cols": {
    "lenName": 16,
    "lenType": 16,
    "lenVar": 40
   },
   "kernels_config": {
    "python": {
     "delete_cmd_postfix": "",
     "delete_cmd_prefix": "del ",
     "library": "var_list.py",
     "varRefreshCmd": "print(var_dic_list())"
    },
    "r": {
     "delete_cmd_postfix": ") ",
     "delete_cmd_prefix": "rm(",
     "library": "var_list.r",
     "varRefreshCmd": "cat(var_dic_list()) "
    }
   },
   "types_to_exclude": [
    "module",
    "function",
    "builtin_function_or_method",
    "instance",
    "_Feature"
   ],
   "window_display": false
  }
 },
 "nbformat": 4,
 "nbformat_minor": 2
}
